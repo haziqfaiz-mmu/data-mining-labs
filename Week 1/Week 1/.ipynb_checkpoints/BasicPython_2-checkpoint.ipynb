{
 "cells": [
  {
   "cell_type": "markdown",
   "metadata": {},
   "source": [
    "<img src=\"mmu_logo.png\" style=\"height: 80px;\" align=left>  "
   ]
  },
  {
   "cell_type": "markdown",
   "metadata": {},
   "source": [
    "# Learning Objectives\n",
    "\n",
    "Towards the end of this lesson, you should be able to:\n",
    "- different types of loop\n",
    "- loop in a list \n",
    "\n",
    "\n"
   ]
  },
  {
   "cell_type": "markdown",
   "metadata": {
    "toc-hr-collapsed": false
   },
   "source": [
    "## More on loops"
   ]
  },
  {
   "cell_type": "markdown",
   "metadata": {},
   "source": [
    "### While loop"
   ]
  },
  {
   "cell_type": "code",
   "execution_count": null,
   "metadata": {},
   "outputs": [],
   "source": [
    "# while loop\n",
    "\n",
    "i = 0\n",
    "\n",
    "while i < 10:\n",
    "    i += 1\n",
    "    print(i)"
   ]
  },
  {
   "cell_type": "markdown",
   "metadata": {},
   "source": [
    "Let's write a code that asks the user for integer numbers until the total is 50."
   ]
  },
  {
   "cell_type": "code",
   "execution_count": null,
   "metadata": {},
   "outputs": [],
   "source": [
    "# while loop with condition\n",
    "\n",
    "total = 0\n",
    "\n",
    "while total < 50:\n",
    "    x = int(input())\n",
    "    total += x\n",
    "    print(\"total:\", total, \"x:\", x)"
   ]
  },
  {
   "cell_type": "markdown",
   "metadata": {},
   "source": [
    "### Range\n",
    "\n",
    "The for loop is used often in combination with range().  "
   ]
  },
  {
   "cell_type": "code",
   "execution_count": null,
   "metadata": {},
   "outputs": [],
   "source": [
    "\n",
    "range(5)"
   ]
  },
  {
   "cell_type": "code",
   "execution_count": null,
   "metadata": {},
   "outputs": [],
   "source": [
    "for i in range(5):\n",
    "    print(i)"
   ]
  },
  {
   "cell_type": "code",
   "execution_count": null,
   "metadata": {},
   "outputs": [],
   "source": [
    "for i in range(0,11,2):\n",
    "    print(i)"
   ]
  },
  {
   "cell_type": "markdown",
   "metadata": {},
   "source": [
    "### Enumerate\n",
    "\n",
    "Sometimes you want to loop over a list of items and also use the index numbers. For this we can use the enumerate function."
   ]
  },
  {
   "cell_type": "code",
   "execution_count": null,
   "metadata": {},
   "outputs": [],
   "source": [
    "\n",
    "items = [\"apple\", \"kiwi\", \"orange\"]"
   ]
  },
  {
   "cell_type": "code",
   "execution_count": null,
   "metadata": {},
   "outputs": [],
   "source": [
    "\n",
    "list(enumerate(items))"
   ]
  },
  {
   "cell_type": "code",
   "execution_count": null,
   "metadata": {},
   "outputs": [],
   "source": [
    "list(enumerate(items, start=1))"
   ]
  },
  {
   "cell_type": "code",
   "execution_count": null,
   "metadata": {},
   "outputs": [],
   "source": [
    "for i, item in enumerate(items, start=2):\n",
    "    print(i, item)"
   ]
  },
  {
   "cell_type": "markdown",
   "metadata": {
    "toc-hr-collapsed": false
   },
   "source": [
    "## List operations\n",
    "\n",
    "The list is a very powerful object with many functionalities. \n",
    "\n",
    "Here is an overview of the most important functionality.\n",
    "\n",
    "- **len(dict)** -- Gives the total length of the dictionary. This would be equal to the number of items in the dictionary.\n",
    "- **list.clear()** -- Removes all elements of the list.\n",
    "- **list.copy()** -- Returns a shallow copy of the list.\n",
    "- **list.append(elem)** -- adds a single element to the end of the list. Common error: does not return the new list, just modifies the original.\n",
    "- **list.insert(index, elem)** -- inserts the element at the given index, shifting elements to the right.\n",
    "- **list.extend(list2)** -- adds the elements in list2 to the end of the list. Using + or += on a list is similar to using extend().\n",
    "- **list.index(elem)** -- searches for the given element from the start of the list and returns its index. Throws a ValueError if the element does not appear (use \"in\" to check without a ValueError).\n",
    "- **item in list** -- check if the item is in the list.\n",
    "- **list.remove(elem)** -- searches for the first instance of the given element and removes it (throws ValueError if not present).\n",
    "- **list.sort()** -- sorts the list in place (does not return it).\n",
    "- **sorted(list)** -- return sorted list but keeps the original order of the list.\n",
    "- **list.reverse()** -- reverses the list in place (does not return it).\n",
    "- **list.pop(index)** -- removes and returns the element at the given index. Returns the rightmost element if index is omitted (roughly the opposite of append()).\n",
    "\n",
    "This is to give a overview, so that you know of the existence of these functionalities. Do you need to learn these by heart? No. Because you can always look it up using **help()** or **dir()** or the online Python documentation."
   ]
  },
  {
   "cell_type": "markdown",
   "metadata": {},
   "source": [
    "Let's go through these functionalities. \n",
    "\n",
    "Create a list, show the size, clear it"
   ]
  },
  {
   "cell_type": "code",
   "execution_count": null,
   "metadata": {},
   "outputs": [],
   "source": [
    "numbers = [1,2,3,4]\n",
    "numbers"
   ]
  },
  {
   "cell_type": "code",
   "execution_count": null,
   "metadata": {},
   "outputs": [],
   "source": [
    "\n",
    "len(numbers)"
   ]
  },
  {
   "cell_type": "code",
   "execution_count": null,
   "metadata": {},
   "outputs": [],
   "source": [
    "numbers.clear()\n",
    "numbers"
   ]
  },
  {
   "cell_type": "markdown",
   "metadata": {},
   "source": [
    "You can use the list.copy() method when you want to copy the list and make a new object out of it."
   ]
  },
  {
   "cell_type": "code",
   "execution_count": null,
   "metadata": {},
   "outputs": [],
   "source": [
    "numbers = [1,2,3,4,6666]\n",
    "numbers_2 = numbers\n",
    "numbers_3 = numbers.copy()\n",
    "\n",
    "print(numbers_2)\n",
    "print(numbers_3)"
   ]
  },
  {
   "cell_type": "markdown",
   "metadata": {},
   "source": [
    "Append an item at the end."
   ]
  },
  {
   "cell_type": "code",
   "execution_count": null,
   "metadata": {},
   "outputs": [],
   "source": [
    "numbers = [1,2,3,4,6666]\n",
    "numbers = numbers.append(5)"
   ]
  },
  {
   "cell_type": "markdown",
   "metadata": {},
   "source": [
    "Notice this doesn't return a object. This is an **in-place** operation. The original object is changed **automatically**. Now 5 is added to the list. Let's see what happened to variable's numbers_2 and numbers_3."
   ]
  },
  {
   "cell_type": "code",
   "execution_count": null,
   "metadata": {},
   "outputs": [],
   "source": [
    "print(numbers)\n",
    "print(numbers_2)\n",
    "print(numbers_3)"
   ]
  },
  {
   "cell_type": "markdown",
   "metadata": {},
   "source": [
    "**Be careful not to assign an <u>in-place</u> operation to a variable.**"
   ]
  },
  {
   "cell_type": "code",
   "execution_count": null,
   "metadata": {},
   "outputs": [],
   "source": [
    "new_numbers = numbers.append(6) # cannot in-place!\n",
    "\n",
    "print(\"numbers\", numbers)\n",
    "print(\"new_numbers\", new_numbers)"
   ]
  },
  {
   "cell_type": "markdown",
   "metadata": {},
   "source": [
    "Notice that the value of new_numbers is **None**. This is what happens when you <u>assign an in-place operation to a variable<u>.\n",
    "\n",
    "We can also insert an item anywhere in the list. This is also an inplace operation."
   ]
  },
  {
   "cell_type": "markdown",
   "metadata": {},
   "source": [
    "We can add two lists with the **+ operator**."
   ]
  },
  {
   "cell_type": "code",
   "execution_count": null,
   "metadata": {},
   "outputs": [],
   "source": [
    "[1,2,3] + [4,5,6]"
   ]
  },
  {
   "cell_type": "markdown",
   "metadata": {
    "toc-hr-collapsed": false
   },
   "source": [
    "## List comprehension"
   ]
  },
  {
   "cell_type": "markdown",
   "metadata": {},
   "source": [
    "A list comprehension is a compact expression to **create a new list out of another list** while applying filters and expressions. All in one line!\n"
   ]
  },
  {
   "cell_type": "code",
   "execution_count": null,
   "metadata": {},
   "outputs": [],
   "source": [
    "numbers = [1,2,3,4,5,6,7,8,9,10]"
   ]
  },
  {
   "cell_type": "code",
   "execution_count": null,
   "metadata": {},
   "outputs": [],
   "source": [
    "\n",
    "newlist = [n*2 for n in numbers]\n",
    "newlist"
   ]
  },
  {
   "cell_type": "markdown",
   "metadata": {},
   "source": [
    "Now we have a new list with the same items.\n",
    "\n",
    "Let's filter so that we keep the **odd** numbers."
   ]
  },
  {
   "cell_type": "code",
   "execution_count": null,
   "metadata": {},
   "outputs": [],
   "source": [
    "\n",
    "oddlist = [n for n in numbers if n%2!=0]\n",
    "oddlist"
   ]
  },
  {
   "cell_type": "markdown",
   "metadata": {},
   "source": [
    "Now let's square those **even** numbers"
   ]
  },
  {
   "cell_type": "code",
   "execution_count": null,
   "metadata": {},
   "outputs": [],
   "source": [
    "evenlist = [n for n in numbers if n%2==0]\n",
    "print(evenlist)\n",
    "\n",
    "square_evenlist = [n**2 for n in numbers if n%2==0]\n",
    "print(square_evenlist)"
   ]
  },
  {
   "cell_type": "markdown",
   "metadata": {},
   "source": [
    "Done! All in one line.\n",
    "\n",
    "So what did we do here?\n",
    "\n",
    "We looped over the numbers, applied a filter and applied an expression on each item n.\n",
    "- iterable: numbers\n",
    "- element: n\n",
    "- condition: n%2==0\n",
    "- expression: n**2\n",
    "\n",
    "```python\n",
    "[ expression(element) for element in iterable if condition(element) ]\n",
    "```"
   ]
  },
  {
   "cell_type": "markdown",
   "metadata": {},
   "source": [
    "### Exercises"
   ]
  },
  {
   "cell_type": "markdown",
   "metadata": {},
   "source": [
    "#### Exercise 1 - Get odds\n",
    "\n",
    "Define a function called **remove_even()** that returns a list after removing the even numbers from it.\n",
    "\n",
    "Hints: define a new list, help(str.append)"
   ]
  },
  {
   "cell_type": "code",
   "execution_count": null,
   "metadata": {},
   "outputs": [],
   "source": []
  },
  {
   "cell_type": "markdown",
   "metadata": {
    "toc-hr-collapsed": false
   },
   "source": [
    "### Exercises - List comprehension"
   ]
  },
  {
   "cell_type": "markdown",
   "metadata": {},
   "source": [
    "#### Exercise 1 - Negative ints\n",
    "\n",
    "Write a list comprehension to create a new list that contains only the **negative numbers as integers** and store it as newlist."
   ]
  },
  {
   "cell_type": "code",
   "execution_count": null,
   "metadata": {},
   "outputs": [],
   "source": [
    "# your answer here...\n"
   ]
  },
  {
   "cell_type": "markdown",
   "metadata": {},
   "source": [
    "#### Exercise 2 - Power odds\n",
    "\n",
    "Write one line of Python that takes this list and makes a new list that only has the **odd elements** and **power it with 3**.\n",
    "\n",
    "Hints: x**3"
   ]
  },
  {
   "cell_type": "code",
   "execution_count": null,
   "metadata": {},
   "outputs": [],
   "source": [
    "# your answer here...\n"
   ]
  },
  {
   "cell_type": "markdown",
   "metadata": {},
   "source": [
    "#### Exercise 3 - Word lengths\n",
    "\n",
    "Write a list comprehsion to determine the length of each word except 'the' and store as word_lengths"
   ]
  },
  {
   "cell_type": "code",
   "execution_count": null,
   "metadata": {},
   "outputs": [],
   "source": [
    "# your answer here...\n"
   ]
  },
  {
   "cell_type": "markdown",
   "metadata": {},
   "source": [
    "## Exception Handling"
   ]
  },
  {
   "cell_type": "markdown",
   "metadata": {
    "slideshow": {
     "slide_type": "fragment"
    }
   },
   "source": [
    "There are different types of Exceptions. Built-in exception types include:\n",
    "- ZeroDivisionError -- division by zero\n",
    "- NameError -- name not defined\n",
    "- TypeError -- incorrect type\n",
    "- KeyError -- key not found in dict\n",
    "- IndexError -- index greater than length in list\n",
    "\n",
    "There are many other built-in exceptions in Python. See https://docs.python.org/3/library/exceptions.html\n",
    " "
   ]
  },
  {
   "cell_type": "markdown",
   "metadata": {},
   "source": [
    "### Try except\n",
    "\n",
    "Sometimes exceptions are expected to happen and we want our code to handle those exceptions in a certain way. For this there is the try except statement.\n",
    "\n",
    "Let's try these inputs.\n",
    "\n",
    "- typing a number\n",
    "- typing a non-numeric string\n",
    "- typing a zero\n",
    "- ending the cell by interrupting the kernel"
   ]
  },
  {
   "cell_type": "code",
   "execution_count": null,
   "metadata": {},
   "outputs": [],
   "source": [
    "while True:\n",
    "    try:\n",
    "        x = float(input(\"Please enter a number: \"))\n",
    "        print(\"inverse is:\",  1/x)\n",
    "        break\n",
    "    except:\n",
    "        print(\"Oops!  That was no valid number.  Try again...\")"
   ]
  },
  {
   "cell_type": "markdown",
   "metadata": {},
   "source": [
    "The try statement.\n",
    "\n",
    "1. the __try clause__ (block under try:) is executed\n",
    "1. if __no exception__ occurs, __except clause is skipped__\n",
    "1. if __an exception occurs__, the rest of the try clause is skipped,\n",
    "    - and __the first except__ clause matching the exception __is executed__,\n",
    "    - if __no handler__ is found, execution stops, an error __Traceback is displayed__.\n",
    "    \n",
    "In this case we have used a bare except statement. This means all exception are catched including the KeyboardInterrupt.\n",
    "\n",
    "You can specifiy which exception you want to be catched and you want to handle them.\n",
    "\n",
    "Let's try typing an number, a non-numeric number, a zero and a keyboardinterrupt again."
   ]
  },
  {
   "cell_type": "code",
   "execution_count": null,
   "metadata": {},
   "outputs": [],
   "source": [
    "while True:\n",
    "    try:\n",
    "        x = float(input(\"Please enter a number: \"))\n",
    "        print(\"inverse is:\",  1/x)\n",
    "        break\n",
    "    except ValueError:\n",
    "        print(\"Oops!  That was no valid number.  Try again...\")\n",
    "    except ZeroDivisionError:\n",
    "        print(\"Oops! Cannot divide by 0!\")\n",
    "    except:\n",
    "        print(\"Something else went wrong\")\n",
    "        break"
   ]
  },
  {
   "cell_type": "markdown",
   "metadata": {},
   "source": [
    "else and finally are usefull to define clean-up action.\n",
    "- ```else``` statements are executed __only if__ no exceptions occur in ```try``` block.\n",
    "- ```finally``` statements are __always__ executed.\n",
    "\n",
    "else clause avoids accidentally catching an exception."
   ]
  },
  {
   "cell_type": "code",
   "execution_count": null,
   "metadata": {},
   "outputs": [],
   "source": [
    "def divide(x, y):\n",
    "    try:\n",
    "        result = x / y\n",
    "    except ZeroDivisionError:\n",
    "        print(\"division by zero!\")\n",
    "    else:\n",
    "        print(\"result is\", result)\n",
    "    finally:\n",
    "        print(\"executing finally clause\")\n",
    "        \n",
    "divide(2,0)"
   ]
  },
  {
   "cell_type": "code",
   "execution_count": null,
   "metadata": {},
   "outputs": [],
   "source": [
    "divide(2,1)"
   ]
  },
  {
   "cell_type": "code",
   "execution_count": null,
   "metadata": {},
   "outputs": [],
   "source": [
    "numbers = [1,2,3,\"a\", \"b\", \"c\", 5, 6, 7]"
   ]
  },
  {
   "cell_type": "code",
   "execution_count": null,
   "metadata": {},
   "outputs": [],
   "source": [
    "total = 0\n",
    "\n",
    "for number in numbers:\n",
    "    try:\n",
    "        total += number\n",
    "    except:\n",
    "        pass\n",
    "total"
   ]
  }
 ],
 "metadata": {
  "kernelspec": {
   "display_name": "Python 3 (ipykernel)",
   "language": "python",
   "name": "python3"
  },
  "language_info": {
   "codemirror_mode": {
    "name": "ipython",
    "version": 3
   },
   "file_extension": ".py",
   "mimetype": "text/x-python",
   "name": "python",
   "nbconvert_exporter": "python",
   "pygments_lexer": "ipython3",
   "version": "3.9.7"
  },
  "toc-autonumbering": false
 },
 "nbformat": 4,
 "nbformat_minor": 4
}
