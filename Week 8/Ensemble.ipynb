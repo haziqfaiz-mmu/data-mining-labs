{
 "cells": [
  {
   "cell_type": "markdown",
   "id": "e7485159-ffff-4f9b-a63f-315484dfba2f",
   "metadata": {},
   "source": [
    "<img src=\"mmu_logo.png\" style=\"height: 80px;\" align=left> "
   ]
  },
  {
   "cell_type": "markdown",
   "id": "b847a606-b247-44c9-9a62-796c5dd57b0d",
   "metadata": {},
   "source": [
    "# Learning Objectives\n",
    "\n",
    "Towards the end of this lesson, you should be able to:\n",
    "- save and load a predictive model\n",
    "- constructing a stacking ensemble model\n",
    "- comparing the performance of stacking\n",
    "- experiment with GridSearchCV"
   ]
  },
  {
   "cell_type": "markdown",
   "id": "ca62b6ec-8bdb-4dd7-a4a4-a9058036e407",
   "metadata": {},
   "source": [
    "# Load Libraries"
   ]
  },
  {
   "cell_type": "code",
   "execution_count": 1,
   "id": "6544f40c-ba7e-46ea-9be0-0775312f177a",
   "metadata": {},
   "outputs": [],
   "source": [
    "import pandas as pd\n",
    "\n",
    "from numpy import mean\n",
    "from numpy import std\n",
    "from sklearn.datasets import make_classification\n",
    "from sklearn.ensemble import StackingClassifier\n",
    "from sklearn.model_selection import cross_val_score\n",
    "from sklearn.model_selection import RepeatedStratifiedKFold\n",
    "from sklearn.linear_model import LogisticRegression\n",
    "from sklearn.neighbors import KNeighborsClassifier\n",
    "from sklearn.tree import DecisionTreeClassifier\n",
    "from sklearn.ensemble import RandomForestRegressor\n",
    "from sklearn.svm import SVC\n",
    "from sklearn.naive_bayes import GaussianNB\n",
    "from sklearn.ensemble import RandomForestClassifier\n",
    "\n",
    "from sklearn.metrics import mean_squared_error as MSE\n",
    "from sklearn.model_selection import GridSearchCV\n",
    "\n",
    "from sklearn.metrics import accuracy_score, precision_score, recall_score, f1_score\n",
    "from sklearn.model_selection import train_test_split\n",
    "\n",
    "from matplotlib import pyplot\n",
    "\n",
    "import warnings\n",
    "warnings.filterwarnings('ignore')\n",
    "\n",
    "pd.set_option(\"display.max_columns\", 500)"
   ]
  },
  {
   "cell_type": "markdown",
   "id": "fd7b51bc-55e0-406a-945b-3a8378439cf8",
   "metadata": {},
   "source": [
    "# Save and Load a Model"
   ]
  },
  {
   "cell_type": "markdown",
   "id": "be9ed697-c10c-4c8e-8d10-840885fd921d",
   "metadata": {
    "tags": []
   },
   "source": [
    "### Read Dataset"
   ]
  },
  {
   "cell_type": "code",
   "execution_count": null,
   "id": "089b8a3b-4822-46c1-87f2-1ee53579899e",
   "metadata": {},
   "outputs": [],
   "source": [
    "df = pd.read_csv(\"banking.csv\")\n",
    "df.head()"
   ]
  },
  {
   "cell_type": "markdown",
   "id": "6c037607-5045-44f3-a49b-180eb9927b1c",
   "metadata": {},
   "source": [
    "### One-Hot Encoding"
   ]
  },
  {
   "cell_type": "code",
   "execution_count": null,
   "id": "33bfc418-9011-4655-bf18-ea30a4725091",
   "metadata": {},
   "outputs": [],
   "source": [
    "# your codes here...\n",
    "\n"
   ]
  },
  {
   "cell_type": "markdown",
   "id": "26439997-e60d-40fd-a4d6-27b8c87ed56f",
   "metadata": {},
   "source": [
    "### Separate into X, y"
   ]
  },
  {
   "cell_type": "code",
   "execution_count": null,
   "id": "38195e7d-829f-4219-b357-8500d2cbf2fb",
   "metadata": {},
   "outputs": [],
   "source": [
    "y = df.y\n",
    "X = df.drop(\"y\", 1)\n",
    "colnames = X.columns\n",
    "\n",
    "# Train-Test-Split using 20% test data\n",
    "# your codes here...\n",
    "X_train, X_test, y_train, y_test = train_test_split(...)\n",
    "        "
   ]
  },
  {
   "cell_type": "markdown",
   "id": "23390124-e336-4c8d-9305-3bb757b53443",
   "metadata": {},
   "source": [
    "### Train, Save, and Load a Model"
   ]
  },
  {
   "cell_type": "code",
   "execution_count": null,
   "id": "f2d0264f-c3e6-47cb-ae17-9d7945b5aca5",
   "metadata": {},
   "outputs": [],
   "source": [
    "# train a Random Forest classifier\n",
    "# max_depth=3, random_state=10\n",
    "# your codes here...\n",
    "\n",
    "# your codes here...\n",
    "\n",
    "# printing the accuracy, f1, precision, recall scores\n",
    "\n",
    "print(\"Accuracy = {}\".format(round((accuracy_score(y_test, y_pred)*100), 2)))\n",
    "print(\"Recall = {}\".format(round((recall_score(y_test, y_pred)*100), 2)))\n",
    "print(\"Precision = {}\".format(round((precision_score(y_test, y_pred)*100), 2)))\n",
    "print(\"F1 = {}\".format(round((f1_score(y_test, y_pred)*100), 2)))\n"
   ]
  },
  {
   "cell_type": "code",
   "execution_count": null,
   "id": "16a2168c-c037-4b31-bb68-a8e8dba97f62",
   "metadata": {},
   "outputs": [],
   "source": [
    "# save the model - method 1 (using pickle)\n",
    "\n",
    "import pickle\n",
    "\n",
    "# your codes here...\n",
    "\n"
   ]
  },
  {
   "cell_type": "code",
   "execution_count": null,
   "id": "50921e0b-f92d-457b-97b4-554ee20a4c49",
   "metadata": {},
   "outputs": [],
   "source": [
    "# save the model - method 2 (using joblib)\n",
    "\n",
    "import joblib\n",
    "\n",
    "# your codes here...\n",
    "\n"
   ]
  },
  {
   "cell_type": "markdown",
   "id": "6be4649c-44c7-48d8-8fe1-eb9b74229b54",
   "metadata": {},
   "source": [
    "# Stacked Ensemble Modeling"
   ]
  },
  {
   "cell_type": "code",
   "execution_count": null,
   "id": "6d5010ab-2046-43c9-81dd-736d03b1be39",
   "metadata": {},
   "outputs": [],
   "source": [
    "# get a stacking ensemble of models\n",
    "\n",
    "def get_stacking():\n",
    "    # define the base models\n",
    "    level0 = list()\n",
    "    level0.append(('knn', KNeighborsClassifier()))\n",
    "    level0.append(('cart', DecisionTreeClassifier()))\n",
    "    level0.append(('rf', RandomForestClassifier()))    \n",
    "    level0.append(('bayes', GaussianNB()))\n",
    "    \n",
    "    # define the stacking ensemble\n",
    "       \n",
    "    level1 = GaussianNB()     \n",
    "    model = StackingClassifier(estimators=level0, final_estimator=level1, cv=5)\n",
    "        \n",
    "    \n",
    "    return model"
   ]
  },
  {
   "cell_type": "markdown",
   "id": "3a3187fb-1df6-45c3-a77c-4802dd25947f",
   "metadata": {},
   "source": [
    "### Preparing the list of models"
   ]
  },
  {
   "cell_type": "code",
   "execution_count": null,
   "id": "c72a1b9d-9ba1-451a-8142-d1dfe27c2068",
   "metadata": {},
   "outputs": [],
   "source": [
    "# construct a list of models in a dictionary\n",
    "\n",
    "models = dict()\n",
    "\n",
    "# your codes here...\n",
    "\n"
   ]
  },
  {
   "cell_type": "markdown",
   "id": "ff368bc7-6b30-4dea-b434-84509fa6a238",
   "metadata": {},
   "source": [
    "### Evaluating the Models"
   ]
  },
  {
   "cell_type": "code",
   "execution_count": null,
   "id": "f02a7883-6199-494a-9a14-b2caa8217340",
   "metadata": {},
   "outputs": [],
   "source": [
    "# evaluate a given model using cross-validation\n",
    "\n",
    "def evaluate_model(model, X, y):\n",
    "    cv = RepeatedStratifiedKFold(n_splits=10, n_repeats=3, random_state=1)\n",
    "    scores = cross_val_score(model, X, y, scoring='f1', cv=cv, n_jobs=-1, error_score='raise')\n",
    "    return scores\n"
   ]
  },
  {
   "cell_type": "code",
   "execution_count": null,
   "id": "942b4d27-4a3e-4716-b632-588a2167505b",
   "metadata": {},
   "outputs": [],
   "source": [
    "# evaluate the models and store results. Will take...may be 5-10 minutes for some of you!!!\n",
    "\n",
    "results, names = list(), list()\n",
    "\n",
    "# your codes here...\n",
    "\n",
    "    \n",
    "# plot model performance for comparison - based on f1-score\n",
    "\n",
    "pyplot.boxplot(results, labels=names, showmeans=True)\n",
    "pyplot.show()"
   ]
  },
  {
   "cell_type": "markdown",
   "id": "69f3869f-3145-417e-8fea-23627db9aa1d",
   "metadata": {},
   "source": [
    "# Model Hyperparameter Tuning"
   ]
  },
  {
   "cell_type": "code",
   "execution_count": null,
   "id": "50a54031-12f1-4355-acdc-1ca3915fa236",
   "metadata": {},
   "outputs": [],
   "source": [
    "# Instantiate a DecisionTreeClassifier 'dt'\n",
    "\n",
    "dt = DecisionTreeClassifier(random_state=10)"
   ]
  },
  {
   "cell_type": "code",
   "execution_count": null,
   "id": "1d9718b1-3f15-42e1-8763-5ee8ca830410",
   "metadata": {},
   "outputs": [],
   "source": [
    "# Print out 'dt's hyperparameters\n",
    "\n",
    "print(dt.get_params())"
   ]
  },
  {
   "cell_type": "code",
   "execution_count": null,
   "id": "81e68cf8-77e8-4d4d-8bf0-f8a2ba8809f9",
   "metadata": {},
   "outputs": [],
   "source": [
    "# Define the grid of hyperparameters 'params_dt'\n",
    "\n",
    "params_dt = {'max_depth': [2, 3, 4], \n",
    "             'min_samples_leaf': [0.04, 0.06], \n",
    "             'max_features': [0.2, 0.4, 0.6, 0.8]}\n",
    "\n",
    "# Instantiate a 10-fold CV grid search object 'grid_dt', scoring is based on \"accuracy\"\n",
    "\n",
    "# your codes here...\n",
    "\n",
    "\n",
    "# Fit 'grid_dt' to the training data\n",
    "\n",
    "grid_dt.fit(X_train, y_train)"
   ]
  },
  {
   "cell_type": "code",
   "execution_count": null,
   "id": "487e3508-5724-4d93-8808-7c146ef5db5a",
   "metadata": {},
   "outputs": [],
   "source": [
    "# Extract best hyperparameters from 'grid_dt'\n",
    "\n",
    "best_hyperparams = grid_dt.best_params_\n",
    "\n",
    "print('Best hyerparameters:\\n', best_hyperparams)"
   ]
  },
  {
   "cell_type": "code",
   "execution_count": null,
   "id": "170ffea0-7425-4f9f-8ef5-d0a001f145da",
   "metadata": {},
   "outputs": [],
   "source": [
    "# Extract best CV score from 'grid_dt'\n",
    "\n",
    "best_CV_score = grid_dt.best_score_\n",
    "\n",
    "print('Best CV accuracy = {}'.format(best_CV_score))"
   ]
  },
  {
   "cell_type": "markdown",
   "id": "25eca54e-ae16-4182-be88-d0b44111c249",
   "metadata": {},
   "source": [
    "# Exercise on GridSearchCV: \n",
    "### Predict Diamond Price using RandomForestRegressor"
   ]
  },
  {
   "cell_type": "markdown",
   "id": "3e5d36f4-f038-4b18-808d-d92aeeb06fe3",
   "metadata": {
    "tags": []
   },
   "source": [
    "### Read Dataset"
   ]
  },
  {
   "cell_type": "code",
   "execution_count": null,
   "id": "14b17246-2881-4dde-a6e7-db7f886b2c40",
   "metadata": {},
   "outputs": [],
   "source": [
    "df = pd.read_csv(\"diamonds.csv\")\n",
    "df.head()"
   ]
  },
  {
   "cell_type": "markdown",
   "id": "5b5474e5-c070-4217-b02d-2eff7416d3a6",
   "metadata": {},
   "source": [
    "### One-Hot Encoding"
   ]
  },
  {
   "cell_type": "code",
   "execution_count": null,
   "id": "5a0c7846-67a3-4cd5-8868-66ed3f924a7b",
   "metadata": {},
   "outputs": [],
   "source": [
    "col_list = [col for col in df.columns.tolist() if df[col].dtype.name == \"object\"]\n",
    "df_oh = df[col_list]\n",
    "df = df.drop(col_list, 1)\n",
    "df_oh = pd.get_dummies(df_oh)\n",
    "df = pd.concat([df, df_oh], axis=1)\n",
    "\n",
    "df.head()"
   ]
  },
  {
   "cell_type": "markdown",
   "id": "a8dfb1b0-64ec-4ef2-81a7-a8bbeb2e2a94",
   "metadata": {},
   "source": [
    "### Separate into X, y"
   ]
  },
  {
   "cell_type": "code",
   "execution_count": null,
   "id": "e4b3b274-a388-4d05-9691-6da07027307a",
   "metadata": {},
   "outputs": [],
   "source": [
    "y = df.price\n",
    "X = df.drop(\"price\", 1)\n",
    "colnames = X.columns\n",
    "\n",
    "X_train, X_test, y_train, y_test = train_test_split(X, y, test_size = 0.2)\n",
    "        "
   ]
  },
  {
   "cell_type": "markdown",
   "id": "c2d08fd5-dd38-4fe6-bdc3-a3fdecb86e92",
   "metadata": {},
   "source": [
    "### Train a Random Forest Regressor"
   ]
  },
  {
   "cell_type": "code",
   "execution_count": null,
   "id": "a4962c6d-7f0a-4450-9fce-561569e724f4",
   "metadata": {},
   "outputs": [],
   "source": [
    "# Instantiate a random forests regressor 'rf'\n",
    "\n",
    "# your codes here...\n",
    "\n",
    "# Inspect rf' s hyperparameters\n",
    "\n",
    "# your codes here...\n"
   ]
  },
  {
   "cell_type": "markdown",
   "id": "d1097fd9-c602-4662-b79a-ff724ed30174",
   "metadata": {},
   "source": [
    "### Define the hyper-parameters"
   ]
  },
  {
   "cell_type": "code",
   "execution_count": null,
   "id": "bedc1470-140d-47df-8d09-648796fce516",
   "metadata": {},
   "outputs": [],
   "source": [
    "# Define a grid of hyperparameter 'params_rf'\n",
    "\n",
    "# your codes here...\n",
    "\n",
    "# Instantiate 'grid_rf'\n",
    "\n",
    "# your codes here...\n",
    "\n"
   ]
  },
  {
   "cell_type": "markdown",
   "id": "058a27e1-a1d6-4dbb-8842-29fde0b4af13",
   "metadata": {},
   "source": [
    "### Train the model"
   ]
  },
  {
   "cell_type": "code",
   "execution_count": null,
   "id": "9476b06e-4cf2-450a-ab22-590ba0df0bc9",
   "metadata": {},
   "outputs": [],
   "source": [
    "# Fit 'grid_rf' to the training set\n",
    "\n",
    "grid_rf.fit(X_train, y_train)\n"
   ]
  },
  {
   "cell_type": "markdown",
   "id": "0284c2d1-24f2-4f70-998e-11bb2507e12a",
   "metadata": {},
   "source": [
    "### Print out the best hyperparameters\n"
   ]
  },
  {
   "cell_type": "code",
   "execution_count": null,
   "id": "4cf54153-859b-4df5-9945-96fc4f8f37b6",
   "metadata": {},
   "outputs": [],
   "source": [
    "# Extract best hyperparameters from 'grid_rf'\n",
    "\n",
    "best_hyperparams = grid_rf.best_params_ \n",
    "print('Best hyerparameters:\\n', best_hyperparams)"
   ]
  },
  {
   "cell_type": "markdown",
   "id": "6e97b074-15d0-4016-b185-864e78a07f47",
   "metadata": {},
   "source": [
    "### Perform Prediction using the Best Model"
   ]
  },
  {
   "cell_type": "code",
   "execution_count": null,
   "id": "0966a5e9-ef65-47b8-a89f-7e5e2047094c",
   "metadata": {},
   "outputs": [],
   "source": [
    "# Extract best model from 'grid_rf'\n",
    "\n",
    "best_model = grid_rf.best_estimator_\n",
    "\n",
    "# Predict the test set labels\n",
    "y_pred = best_model.predict(X_test)\n",
    "\n",
    "# Evaluate the test set RMSE\n",
    "\n",
    "# your codes here...\n",
    "\n",
    "# Print the test set RMSE\n",
    "\n",
    "print('Test set RMSE of rfr: {:.2f}'.format(rmse_test))"
   ]
  }
 ],
 "metadata": {
  "kernelspec": {
   "display_name": "Python 3 (ipykernel)",
   "language": "python",
   "name": "python3"
  },
  "language_info": {
   "codemirror_mode": {
    "name": "ipython",
    "version": 3
   },
   "file_extension": ".py",
   "mimetype": "text/x-python",
   "name": "python",
   "nbconvert_exporter": "python",
   "pygments_lexer": "ipython3",
   "version": "3.9.7"
  }
 },
 "nbformat": 4,
 "nbformat_minor": 5
}
