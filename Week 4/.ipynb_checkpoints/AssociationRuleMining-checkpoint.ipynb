{
 "cells": [
  {
   "cell_type": "markdown",
   "metadata": {},
   "source": [
    "<img src=\"mmu_logo.png\" style=\"height: 80px;\" align=left>  "
   ]
  },
  {
   "cell_type": "markdown",
   "metadata": {},
   "source": [
    "# Week 4: Learning Objectives\n",
    "\n",
    "Towards the end of this lesson, you should be able to:\n",
    "- write Python codes for association rule mining\n",
    "- define different Python built-in functions\n"
   ]
  },
  {
   "cell_type": "markdown",
   "metadata": {},
   "source": [
    "# Question 1\n",
    "\n",
    "1.\tA supermarket transaction database is given as follows. Suppose that the minimum support threshold is 43% (i.e. 3 transactions) and the minimum confidence is 90%:\n",
    "\n",
    "TID|ITEMS\n",
    "---|-----\n",
    "100|1, 2, 3, 4\n",
    "200|2, 4, 5\n",
    "300|1, 2, 4, 5\n",
    "400|1\n",
    "500|1, 2, 3, 4, 5\n",
    "600|1, 5\n",
    "700|2, 3 \n",
    "\n",
    "(a)\tFind all frequent itemsets using the Apriori algorithm.\n",
    "\n",
    "(b)\tFind all Boolean association rules that satisfy the minimum confidence and the minimum support thresholds.\n",
    "\n",
    "<center>\n",
    "$\\operatorname{conf}(A \\rightarrow B)=\\frac{\\sup (A \\cup B)}{\\sup (A)}=\\frac{\\frac{A \\cup B}{N}}{\\frac{A}{N}}=\\frac{A \\cup B}{A}$\n",
    "</center>"
   ]
  },
  {
   "cell_type": "markdown",
   "metadata": {},
   "source": [
    "# Question 2\n",
    "\n",
    "The following contingency table summarizes supermarket transaction data, where $hotdogs$ refer to the transactions containing hot dogs, $\\overline{hotdogs}$ refer to the transactions which do not contain hot dogs, hamburgers refer to the transactions containing hamburgers, and $\\overline{hamburgers}$ refer to the transactions which do not contain hamburgers.\n",
    "\n",
    "|           | hotdogs | $\\overline{hotdogs}$ | $\\sum{row}$ |\n",
    "|-----------|--------|--------|-------|\n",
    "| hamberger | 2000 |500|2500\n",
    "|$\\overline{hamberger}$ | 1000 |1500|2500\n",
    "|$\\sum{col}$ | 3000|1500|5000 \n",
    "\n",
    "(a)\tSuppose that the association rule “hot dogs $\\implies$ hamburgers\" is mined. Given a minimum support threshold of 25% and a minimum confidence threshold of 50%, is this association rule strong?\n",
    "\n",
    "(b)\tBased on the given data, is the purchase of hot dogs independent of the purchase of hamburgers? If not, what kind of correlation relationship exists between the two? "
   ]
  },
  {
   "cell_type": "markdown",
   "metadata": {},
   "source": [
    "## Import the Libraries"
   ]
  },
  {
   "cell_type": "code",
   "execution_count": null,
   "metadata": {},
   "outputs": [],
   "source": [
    "import numpy as np\n",
    "import matplotlib.pyplot as plt\n",
    "import pandas as pd\n",
    "from apyori import apriori"
   ]
  },
  {
   "cell_type": "markdown",
   "metadata": {},
   "source": [
    "## Importing the Dataset"
   ]
  },
  {
   "cell_type": "code",
   "execution_count": null,
   "metadata": {},
   "outputs": [],
   "source": [
    "store_data = pd.read_csv('store_data.csv', header=None)\n",
    "store_data.head()"
   ]
  },
  {
   "cell_type": "markdown",
   "metadata": {},
   "source": [
    "## Data Preprocessing\n",
    "\n",
    "The Apriori library we are going to use requires our dataset to be in the form of a list of lists, where the whole dataset is a big list and each transaction in the dataset is an inner list within the outer big list. Currently we have data in the form of a pandas dataframe. To convert our pandas dataframe into a list of lists, execute the following script:"
   ]
  },
  {
   "cell_type": "code",
   "execution_count": null,
   "metadata": {},
   "outputs": [],
   "source": [
    "records = []\n",
    "for i in range(0, 7501):\n",
    "    records.append([str(store_data.values[i,j]) for j in range(0, 20)])\n"
   ]
  },
  {
   "cell_type": "markdown",
   "metadata": {},
   "source": [
    "## Applying Apriori Algorithm\n",
    "\n",
    "You must set the parameters in the apriori algorithm. <br>\n"
   ]
  },
  {
   "cell_type": "code",
   "execution_count": null,
   "metadata": {},
   "outputs": [],
   "source": [
    "# your answer here...\n",
    "\n",
    "\n"
   ]
  },
  {
   "cell_type": "code",
   "execution_count": null,
   "metadata": {},
   "outputs": [],
   "source": [
    "association_results"
   ]
  },
  {
   "cell_type": "markdown",
   "metadata": {},
   "source": [
    "## Check the output"
   ]
  },
  {
   "cell_type": "code",
   "execution_count": null,
   "metadata": {},
   "outputs": [],
   "source": [
    "len(association_results)"
   ]
  },
  {
   "cell_type": "code",
   "execution_count": null,
   "metadata": {},
   "outputs": [],
   "source": [
    "print(association_results[0])"
   ]
  },
  {
   "cell_type": "markdown",
   "metadata": {},
   "source": [
    "## Output in better presentation"
   ]
  },
  {
   "cell_type": "code",
   "execution_count": null,
   "metadata": {},
   "outputs": [],
   "source": [
    "# your answer here...\n",
    "\n"
   ]
  }
 ],
 "metadata": {
  "kernelspec": {
   "display_name": "Python 3 (ipykernel)",
   "language": "python",
   "name": "python3"
  },
  "language_info": {
   "codemirror_mode": {
    "name": "ipython",
    "version": 3
   },
   "file_extension": ".py",
   "mimetype": "text/x-python",
   "name": "python",
   "nbconvert_exporter": "python",
   "pygments_lexer": "ipython3",
   "version": "3.9.7"
  }
 },
 "nbformat": 4,
 "nbformat_minor": 4
}
