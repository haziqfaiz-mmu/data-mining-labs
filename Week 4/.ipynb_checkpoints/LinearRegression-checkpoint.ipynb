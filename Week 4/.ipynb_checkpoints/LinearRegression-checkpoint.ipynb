{
 "cells": [
  {
   "cell_type": "markdown",
   "metadata": {},
   "source": [
    "<img src=\"mmu_logo.png\" style=\"height: 80px;\" align=left>  "
   ]
  },
  {
   "cell_type": "markdown",
   "metadata": {},
   "source": [
    "# Learning Objectives\n",
    "\n",
    "Towards the end of this lesson, you should be able to:\n",
    "- programm in linear regression\n"
   ]
  },
  {
   "cell_type": "code",
   "execution_count": null,
   "metadata": {},
   "outputs": [],
   "source": [
    "import pandas as pd\n",
    "import numpy as np\n",
    "import matplotlib.pyplot as plt\n",
    "import seaborn as sns \n",
    "\n",
    "pd.set_option('display.max_columns', 500)"
   ]
  },
  {
   "cell_type": "code",
   "execution_count": null,
   "metadata": {},
   "outputs": [],
   "source": [
    "import os\n",
    "os.listdir()"
   ]
  },
  {
   "cell_type": "code",
   "execution_count": null,
   "metadata": {},
   "outputs": [],
   "source": [
    "df_all = pd.DataFrame()\n",
    "for i in range(4):\n",
    "    filename = './data/file' + str(i+1) + \".xlsx\"\n",
    "    df = pd.read_excel(filename, sheet_name='Reading', skiprows = 2, usecols = 'G:AB') \n",
    "    df.drop(df.index[31:], inplace=True)\n",
    "    df_all = df_all.append(df) \n",
    "df_all = df_all.fillna(0)\n",
    "df_all = df_all/56*5\n",
    "df_all = df_all.round(2)\n",
    "df_all.head()"
   ]
  },
  {
   "cell_type": "code",
   "execution_count": null,
   "metadata": {},
   "outputs": [],
   "source": [
    "df_all_melt = df_all.melt()\n",
    "df_all_melt.columns = ['Item', 'Sales']\n",
    "a=df_all_melt.loc[df_all_melt['Item']=='Detergent 1','Sales']\n",
    "df_all_melt['Sales'].sum()"
   ]
  },
  {
   "cell_type": "code",
   "execution_count": null,
   "metadata": {},
   "outputs": [],
   "source": [
    "df_all_melt.head() "
   ]
  },
  {
   "cell_type": "code",
   "execution_count": null,
   "metadata": {},
   "outputs": [],
   "source": [
    "len(df_all_melt)"
   ]
  },
  {
   "cell_type": "code",
   "execution_count": null,
   "metadata": {},
   "outputs": [],
   "source": [
    "sns.set(rc={'figure.figsize':(11,6)})\n",
    "sns.set(style=\"whitegrid\", color_codes=True)\n",
    "\n",
    "a = sns.stripplot(x=\"Item\", y=\"Sales\", data=df_all_melt)\n",
    "a.set_xticklabels(a.get_xticklabels(), rotation=90)\n",
    "a.set_title('Items and Sales')\n",
    "a.set_ylabel('Sales')\n",
    "a.set_xlabel('Items')\n"
   ]
  },
  {
   "cell_type": "code",
   "execution_count": null,
   "metadata": {},
   "outputs": [],
   "source": [
    "sns.set(rc={'figure.figsize':(11, 6)})\n",
    "sns.set(style=\"whitegrid\", color_codes=True)\n",
    "\n",
    "a = sns.swarmplot(x=\"Item\", y=\"Sales\", data=df_all_melt)\n",
    "a.set_xticklabels(a.get_xticklabels(), rotation=90)\n",
    "a.set_title('Items and Sales')\n",
    "a.set_ylabel('Sales')\n",
    "a.set_xlabel('Items')\n"
   ]
  },
  {
   "cell_type": "code",
   "execution_count": null,
   "metadata": {},
   "outputs": [],
   "source": [
    "sns.set_style(\"ticks\")\n",
    "sns.pairplot(df_all.loc[:,['W1','W2','W3','W4','W5','W6']])\n"
   ]
  },
  {
   "cell_type": "code",
   "execution_count": null,
   "metadata": {},
   "outputs": [],
   "source": [
    "sns.set(rc={'figure.figsize':(11,6)})\n",
    "\n",
    "correlation_matrix = df_all.iloc[:,:].corr().round(1)\n",
    "\n",
    "sns.heatmap(data=correlation_matrix, annot=True)\n"
   ]
  },
  {
   "cell_type": "code",
   "execution_count": null,
   "metadata": {},
   "outputs": [],
   "source": [
    "df_itemSales = df_all_melt.groupby([\"Item\"]).sum() \n",
    "df_itemSales.reset_index(inplace=True)\n",
    "df_itemSales.head()"
   ]
  },
  {
   "cell_type": "code",
   "execution_count": null,
   "metadata": {},
   "outputs": [],
   "source": [
    "sns.set(rc={'figure.figsize':(11,6)})\n",
    "sns.set(style=\"whitegrid\", color_codes=True)\n",
    "\n",
    "b = sns.barplot(x=\"Item\", y=\"Sales\",  data=df_itemSales)\n",
    "b.set_xticklabels(b.get_xticklabels(), rotation=90)\n",
    "b.set_title('Item Sales')\n",
    "b.set_ylabel('Sales')\n",
    "b.set_xlabel('Items')\n",
    "b.set(ylim=(0, 10000))\n",
    "\n",
    "for p in b.patches:\n",
    "    \tb.annotate(\"%.0f\" % p.get_height(), (p.get_x() + \n",
    "\tp.get_width() / 2., p.get_height()), \n",
    "    \tha='center', va='center', rotation=90, \n",
    "\txytext=(0, 18), textcoords='offset points')\n",
    "\n"
   ]
  },
  {
   "cell_type": "code",
   "execution_count": null,
   "metadata": {},
   "outputs": [],
   "source": [
    "df_dailySales = df_all.groupby(df_all.index).sum() \n",
    "df_dailySales.reset_index(drop=True, inplace=True) \n",
    "df_dailySales = df_dailySales.sum(axis=1).to_frame() \n",
    "df_dailySales.columns = ['Sales'] \n",
    "df_dailySales"
   ]
  },
  {
   "cell_type": "code",
   "execution_count": null,
   "metadata": {},
   "outputs": [],
   "source": [
    "sns.set(rc={'figure.figsize':(11, 6)})\n",
    "sns.set(style=\"whitegrid\", color_codes=True)\n",
    "\n",
    "b = sns.barplot(x=df_dailySales.index, y=\"Sales\",  data=df_dailySales)\n",
    "b.set_xticklabels(b.get_xticklabels(), rotation=0)\n",
    "b.set_title('Daily Sales')\n",
    "b.set_ylabel('Sales')\n",
    "b.set_xlabel('Day')\n",
    "\n",
    "b.set(ylim=(0, 5000))\n",
    "\n",
    "for p in b.patches:\n",
    "    \tb.annotate(\"%.0f\" % p.get_height(), (p.get_x() + \n",
    "\tp.get_width() / 2., p.get_height()), \n",
    "    \tha='center', va='center', rotation=90, \n",
    "\txytext=(0, 18), textcoords='offset points')\n"
   ]
  },
  {
   "cell_type": "code",
   "execution_count": null,
   "metadata": {},
   "outputs": [],
   "source": [
    "df_all['VM_Sum'] = df_all.loc[:, 'Detergent 1':'Bag 2'].sum(axis=1)\n",
    "df_all.head()\n"
   ]
  },
  {
   "cell_type": "code",
   "execution_count": null,
   "metadata": {},
   "outputs": [],
   "source": [
    "sns.distplot(df_all['VM_Sum'])\n"
   ]
  },
  {
   "cell_type": "code",
   "execution_count": null,
   "metadata": {},
   "outputs": [],
   "source": [
    "features = ['W1', 'W2', 'W3', 'W4', 'W5', 'W6']\n",
    "target = df_all['VM_Sum']\n",
    "\n",
    "for i, col in enumerate(features):\n",
    "    plt.subplot(1, len(features) , i+1)\n",
    "    x = df_all[col]\n",
    "    y = target\n",
    "    sns.scatterplot(x,y)\n"
   ]
  },
  {
   "cell_type": "markdown",
   "metadata": {},
   "source": [
    "# LR using statemodels "
   ]
  },
  {
   "cell_type": "code",
   "execution_count": null,
   "metadata": {},
   "outputs": [],
   "source": [
    "import statsmodels.api as sm\n",
    "\n",
    "X = df_all[['W3']]\n",
    "Y = df_all[['VM_Sum']]\n"
   ]
  },
  {
   "cell_type": "code",
   "execution_count": null,
   "metadata": {},
   "outputs": [],
   "source": [
    "# your answer here...\n",
    "\n",
    "\n"
   ]
  },
  {
   "cell_type": "code",
   "execution_count": null,
   "metadata": {},
   "outputs": [],
   "source": [
    "plt.scatter(X['W3'],Y)\n",
    "plt.scatter(X['W3'],predictions, color='red')\n"
   ]
  },
  {
   "cell_type": "code",
   "execution_count": null,
   "metadata": {},
   "outputs": [],
   "source": [
    "# your answer here...\n",
    "\n",
    "\n"
   ]
  },
  {
   "cell_type": "code",
   "execution_count": null,
   "metadata": {},
   "outputs": [],
   "source": [
    "plt.scatter(X['W3'],Y)\n",
    "plt.scatter(X['W3'],predictions, color='red')\n"
   ]
  },
  {
   "cell_type": "markdown",
   "metadata": {},
   "source": [
    "# LR using sklearn"
   ]
  },
  {
   "cell_type": "code",
   "execution_count": null,
   "metadata": {},
   "outputs": [],
   "source": [
    "from sklearn.model_selection import train_test_split\n",
    "from sklearn.linear_model import LinearRegression\n",
    "from sklearn.metrics import mean_squared_error\n",
    "from sklearn.metrics import r2_score\n"
   ]
  },
  {
   "cell_type": "code",
   "execution_count": null,
   "metadata": {},
   "outputs": [],
   "source": [
    "X = df_all[['W3']]\n",
    "Y = df_all[['VM_Sum']]\n"
   ]
  },
  {
   "cell_type": "code",
   "execution_count": null,
   "metadata": {},
   "outputs": [],
   "source": [
    "plt.plot(X,Y, linestyle='',marker='o')"
   ]
  },
  {
   "cell_type": "code",
   "execution_count": null,
   "metadata": {},
   "outputs": [],
   "source": [
    "# your answer here...\n",
    "\n",
    "\n",
    "\n",
    "print(X_train.shape)\n",
    "print(Y_train.shape)\n",
    "print(X_test.shape)\n",
    "print(Y_test.shape)\n"
   ]
  },
  {
   "cell_type": "code",
   "execution_count": null,
   "metadata": {},
   "outputs": [],
   "source": [
    "X_train"
   ]
  },
  {
   "cell_type": "code",
   "execution_count": null,
   "metadata": {},
   "outputs": [],
   "source": [
    "# your answer here...\n",
    "\n"
   ]
  },
  {
   "cell_type": "code",
   "execution_count": null,
   "metadata": {},
   "outputs": [],
   "source": [
    "# your answer here...\n"
   ]
  },
  {
   "cell_type": "code",
   "execution_count": null,
   "metadata": {},
   "outputs": [],
   "source": [
    "# your answer here...\n"
   ]
  },
  {
   "cell_type": "code",
   "execution_count": null,
   "metadata": {},
   "outputs": [],
   "source": [
    "# your answer here...\n",
    "\n",
    "\n",
    "Y_test_pred = pd.DataFrame(Y_test_pred, columns=['PredictedSum']) \n"
   ]
  },
  {
   "cell_type": "code",
   "execution_count": null,
   "metadata": {},
   "outputs": [],
   "source": [
    "df_tmp = df_all.loc[:,['W3','VM_Sum']]\n",
    "\n",
    "df_new = pd.concat([df_tmp.reset_index(drop=True), Y_test_pred], axis=1) \n",
    "\n",
    "df_new.head()\n"
   ]
  },
  {
   "cell_type": "code",
   "execution_count": null,
   "metadata": {},
   "outputs": [],
   "source": [
    "plt.plot( 'W3', 'PredictedSum', data=df_new, linestyle='', marker='o')  \n",
    "\n",
    "plt.plot( 'W3', 'VM_Sum', data=df_new, linestyle='', marker='+') \n"
   ]
  },
  {
   "cell_type": "code",
   "execution_count": null,
   "metadata": {},
   "outputs": [],
   "source": [
    "plt.plot(X_test, Y_test, 'o')\n",
    "plt.plot(X_test, Y_test_pred)\n",
    "plt.show()\n"
   ]
  },
  {
   "cell_type": "code",
   "execution_count": null,
   "metadata": {},
   "outputs": [],
   "source": []
  }
 ],
 "metadata": {
  "kernelspec": {
   "display_name": "Python 3 (ipykernel)",
   "language": "python",
   "name": "python3"
  },
  "language_info": {
   "codemirror_mode": {
    "name": "ipython",
    "version": 3
   },
   "file_extension": ".py",
   "mimetype": "text/x-python",
   "name": "python",
   "nbconvert_exporter": "python",
   "pygments_lexer": "ipython3",
   "version": "3.9.7"
  }
 },
 "nbformat": 4,
 "nbformat_minor": 4
}
