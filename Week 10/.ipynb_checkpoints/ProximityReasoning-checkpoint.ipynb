{
 "cells": [
  {
   "cell_type": "markdown",
   "metadata": {},
   "source": [
    "<img src=\"mmu_logo.png\" style=\"height: 80px;\" align=left> "
   ]
  },
  {
   "cell_type": "markdown",
   "metadata": {},
   "source": [
    "# Learning Objectives\n",
    "\n",
    "Towards the end of this lesson, you should be able to:\n",
    "- experiments different distance measure methods in Python\n",
    "- understand how proximity reasoning function\n",
    "- write a simple python program for similarity reasoning \n"
   ]
  },
  {
   "cell_type": "markdown",
   "metadata": {},
   "source": [
    "# Dataset Preparation"
   ]
  },
  {
   "cell_type": "code",
   "execution_count": null,
   "metadata": {},
   "outputs": [],
   "source": [
    "import pandas as pd\n",
    "import numpy as np"
   ]
  },
  {
   "cell_type": "code",
   "execution_count": null,
   "metadata": {},
   "outputs": [],
   "source": [
    "# constructing the dataframe\n",
    "\n",
    "df = pd.DataFrame({'GENDER': {0: 'M',\n",
    "  1: 'F',\n",
    "  2: 'M',\n",
    "  3: 'M',\n",
    "  4: 'F',\n",
    "  5: 'F',\n",
    "  6: 'M',\n",
    "  7: 'F',\n",
    "  8: 'M',\n",
    "  9: 'F'},\n",
    " 'MONTH': {0: 'JAN',\n",
    "  1: 'FEB',\n",
    "  2: 'JAN',\n",
    "  3: 'MARCH',\n",
    "  4: 'FEB',\n",
    "  5: 'JUNE',\n",
    "  6: 'AUGUST',\n",
    "  7: 'FEB',\n",
    "  8: 'JAN',\n",
    "  9: 'FEB'},\n",
    " 'CITY': {0: 'KL',\n",
    "  1: 'KEDAH',\n",
    "  2: 'SELANGOR',\n",
    "  3: 'PINENG',\n",
    "  4: 'PERLIS',\n",
    "  5: 'JOHOR',\n",
    "  6: 'KEDAH',\n",
    "  7: 'SELANGOR',\n",
    "  8: 'KL',\n",
    "  9: 'PERAK'},\n",
    " 'OCCUPATION': {0: 'MANAGER',\n",
    "  1: 'DOCTOR',\n",
    "  2: 'EXECUTIVE',\n",
    "  3: 'CLERK',\n",
    "  4: 'LECTURER',\n",
    "  5: 'SUPERVISOR',\n",
    "  6: 'CLEANER',\n",
    "  7: 'TAILOR',\n",
    "  8: 'TEACHER',\n",
    "  9: 'PILOT'},\n",
    " 'SUSPICIOUS': {0: 'Y',\n",
    "  1: 'Y',\n",
    "  2: 'N',\n",
    "  3: 'Y',\n",
    "  4: 'N',\n",
    "  5: 'N',\n",
    "  6: 'N',\n",
    "  7: 'Y',\n",
    "  8: 'N',\n",
    "  9: 'Y'}})\n",
    "\n",
    "df"
   ]
  },
  {
   "cell_type": "code",
   "execution_count": null,
   "metadata": {},
   "outputs": [],
   "source": [
    "df.shape"
   ]
  },
  {
   "cell_type": "markdown",
   "metadata": {},
   "source": [
    "# Dummification"
   ]
  },
  {
   "cell_type": "code",
   "execution_count": null,
   "metadata": {},
   "outputs": [],
   "source": [
    "# dummifying the variables\n",
    "# your codes here...\n"
   ]
  },
  {
   "cell_type": "markdown",
   "metadata": {},
   "source": [
    "# New Customer"
   ]
  },
  {
   "cell_type": "code",
   "execution_count": null,
   "metadata": {},
   "outputs": [],
   "source": [
    "new_customer = pd.DataFrame({\n",
    "    'GENDER':['F'],\n",
    "    'MONTH':['FEB'],\n",
    "    'CITY':['KL']\n",
    "})\n",
    "new_customer"
   ]
  },
  {
   "cell_type": "code",
   "execution_count": null,
   "metadata": {},
   "outputs": [],
   "source": [
    "# your codes here...\n"
   ]
  },
  {
   "cell_type": "markdown",
   "metadata": {},
   "source": [
    "# Data Transformation (New Customer)"
   ]
  },
  {
   "cell_type": "code",
   "execution_count": null,
   "metadata": {},
   "outputs": [],
   "source": [
    "value = list()\n",
    "for i in range(0,len(new_customer.columns)):    \n",
    "    str = new_customer.columns[i] + '_' + new_customer.iloc[0,i]\n",
    "    value.append(str)"
   ]
  },
  {
   "cell_type": "code",
   "execution_count": null,
   "metadata": {},
   "outputs": [],
   "source": [
    "# create a copy of orginal dataframe but with just one record\n",
    "\n",
    "df_new_customer = df_all.head(1).copy()\n",
    "df_new_customer"
   ]
  },
  {
   "cell_type": "code",
   "execution_count": null,
   "metadata": {},
   "outputs": [],
   "source": [
    "# set values of all columns to 0\n",
    "\n",
    "df_new_customer.values[:] =0\n",
    "df_new_customer"
   ]
  },
  {
   "cell_type": "markdown",
   "metadata": {},
   "source": [
    "# Set value 1 to respective columns"
   ]
  },
  {
   "cell_type": "code",
   "execution_count": null,
   "metadata": {},
   "outputs": [],
   "source": [
    "# set all the related data to 1\n",
    "# your codes here...\n"
   ]
  },
  {
   "cell_type": "code",
   "execution_count": null,
   "metadata": {},
   "outputs": [],
   "source": [
    "df_new_customer"
   ]
  },
  {
   "cell_type": "markdown",
   "metadata": {},
   "source": [
    "# Perform Similarity Test using cdist()"
   ]
  },
  {
   "cell_type": "code",
   "execution_count": null,
   "metadata": {},
   "outputs": [],
   "source": [
    "from scipy.spatial.distance import cdist "
   ]
  },
  {
   "cell_type": "code",
   "execution_count": null,
   "metadata": {},
   "outputs": [],
   "source": [
    "# create 3 variables with 3 different metrics - euclidean, hamming, cosine\n",
    "\n",
    "# your codes here...\n",
    "\n",
    "score_euclidean = ...\n",
    "score_hamming = ...\n",
    "score_cosine = ...\n",
    "\n",
    "# concate back to data frame\n",
    "df_all['Score_euclidean'] = score_euclidean[0]\n",
    "df_all['Score_hamming'] = score_hamming[0]\n",
    "df_all['Score_cosine'] = score_cosine[0]"
   ]
  },
  {
   "cell_type": "code",
   "execution_count": null,
   "metadata": {},
   "outputs": [],
   "source": [
    "df_all"
   ]
  },
  {
   "cell_type": "markdown",
   "metadata": {},
   "source": [
    "# Merge back the Suspicious column"
   ]
  },
  {
   "cell_type": "code",
   "execution_count": null,
   "metadata": {},
   "outputs": [],
   "source": [
    "# your codes here...\n",
    "\n",
    "df_complete = ...\n",
    "df_complete"
   ]
  },
  {
   "cell_type": "markdown",
   "metadata": {},
   "source": [
    "# Decision Making"
   ]
  },
  {
   "cell_type": "code",
   "execution_count": null,
   "metadata": {},
   "outputs": [],
   "source": [
    "# Sort the dataframe by euclidean socre\n",
    "# your codes here...\n",
    "\n",
    "df_complete = df_complete.sort_values(by=['Score_euclidean'])\n",
    "df_complete"
   ]
  },
  {
   "cell_type": "code",
   "execution_count": null,
   "metadata": {},
   "outputs": [],
   "source": [
    "# using the list to append all the decision from each metric.\n",
    "# your codes here...\n",
    "\n",
    "final_decision_list = []\n",
    "\n",
    "# euclidean\n",
    "# your codes here...\n",
    "\n",
    "# hamming\n",
    "# your codes here...\n",
    "\n",
    "# cosine\n",
    "# your codes here...\n",
    "\n",
    "final_decision_list"
   ]
  },
  {
   "cell_type": "code",
   "execution_count": null,
   "metadata": {},
   "outputs": [],
   "source": [
    "# Build your logic to spell out the final decision.\n",
    "# That is if hamming->Y, cosine->Y, euclidean->N, the final decision is Y\n",
    "\n",
    "# your codes here...\n"
   ]
  }
 ],
 "metadata": {
  "kernelspec": {
   "display_name": "Python 3 (ipykernel)",
   "language": "python",
   "name": "python3"
  },
  "language_info": {
   "codemirror_mode": {
    "name": "ipython",
    "version": 3
   },
   "file_extension": ".py",
   "mimetype": "text/x-python",
   "name": "python",
   "nbconvert_exporter": "python",
   "pygments_lexer": "ipython3",
   "version": "3.8.8"
  }
 },
 "nbformat": 4,
 "nbformat_minor": 4
}
