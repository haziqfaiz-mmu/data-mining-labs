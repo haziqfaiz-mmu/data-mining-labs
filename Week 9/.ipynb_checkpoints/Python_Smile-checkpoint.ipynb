{
 "cells": [
  {
   "cell_type": "markdown",
   "metadata": {},
   "source": [
    "<img src=\"mmu_logo.png\" style=\"height: 80px;\" align=left> "
   ]
  },
  {
   "cell_type": "markdown",
   "metadata": {
    "tags": []
   },
   "source": [
    "# Learning Objectives\n",
    "\n",
    "Towards the end of this lesson, you should be able to:\n",
    "- create new conda environment \n",
    "- install Jupyterlab and PySMILE\n",
    "- linking Python to GeNIe file"
   ]
  },
  {
   "cell_type": "markdown",
   "metadata": {},
   "source": [
    "# Preparing SMILE environment\n",
    "\n",
    "You need to do the following:\n",
    "\n",
    "1. Create a new conda environment with Python=3.8 only\n",
    "2. Install Jupyter Lab\n",
    "3. Install PySMILE Academic directly from the repository using the command:\n",
    "\n",
    "``pip install --index-url https://support.bayesfusion.com/pysmile-B/ pysmile``\n",
    "\n"
   ]
  },
  {
   "cell_type": "code",
   "execution_count": null,
   "metadata": {},
   "outputs": [],
   "source": [
    "import pysmile\n",
    "import pysmile_license"
   ]
  },
  {
   "cell_type": "markdown",
   "metadata": {},
   "source": [
    "# Set Evidence and Retrieve the Posterior Probabilities"
   ]
  },
  {
   "cell_type": "code",
   "execution_count": null,
   "metadata": {},
   "outputs": [],
   "source": [
    "# Initialize the pysmile network\n",
    "\n",
    " \n",
    "# Read the GeNIe network. Make sure you have built the GeNIe network.\n",
    "\n",
    " \n",
    "# Set evidence of \"Call_Time\" to \"evening\"\n",
    "\n",
    " \n",
    "# Update the belief of the network\n",
    "\n",
    " \n",
    "# retrieve the beliefs of each state for the note \"Occupation\"\n",
    "\n",
    "     \n",
    " "
   ]
  },
  {
   "cell_type": "markdown",
   "metadata": {},
   "source": [
    "# Your Tasks\n",
    "\n",
    "**Question 1**\n",
    "\n",
    "Set the nodes with the following evidence:\n",
    "\n",
    "- Call_Time = noon\n",
    "- Gender = female\n",
    "- Publisher = AirAsia\n",
    "- Income = high\n",
    "- Day_of_Week = Friday\n",
    "- Browse_Time = Night\n",
    "- phone_brand = Apple\n",
    "\n",
    "What is the Occupation?\n",
    "\n",
    "**Question 2**\n",
    "\n",
    "Create a new Bayesian Network with the class variable Income. Set the following evidence to the relevant nodes:\n",
    "\n",
    "- Call_Time = morning\n",
    "- Gender = male\n",
    "- Publisher = lowyat\n",
    "- Income = low\n",
    "- Day_of_Week = Monday\n",
    "- Browse_Time = morning\n",
    "- phone_brand = Samsung\n",
    "- visit_URL = eBanking\n",
    "\n",
    "What is the Income level?"
   ]
  },
  {
   "cell_type": "code",
   "execution_count": null,
   "metadata": {},
   "outputs": [],
   "source": []
  }
 ],
 "metadata": {
  "kernelspec": {
   "display_name": "Python 3 (ipykernel)",
   "language": "python",
   "name": "python3"
  },
  "language_info": {
   "codemirror_mode": {
    "name": "ipython",
    "version": 3
   },
   "file_extension": ".py",
   "mimetype": "text/x-python",
   "name": "python",
   "nbconvert_exporter": "python",
   "pygments_lexer": "ipython3",
   "version": "3.8.13"
  }
 },
 "nbformat": 4,
 "nbformat_minor": 4
}
