{
 "cells": [
  {
   "cell_type": "markdown",
   "metadata": {},
   "source": [
    "# Label Encode New Data"
   ]
  },
  {
   "cell_type": "markdown",
   "metadata": {
    "tags": []
   },
   "source": [
    "## Load Libraries\n"
   ]
  },
  {
   "cell_type": "code",
   "execution_count": null,
   "metadata": {},
   "outputs": [],
   "source": [
    "import pandas as pd\n",
    "from sklearn import preprocessing \n",
    "from sklearn.preprocessing import LabelEncoder\n",
    "from collections import defaultdict"
   ]
  },
  {
   "cell_type": "markdown",
   "metadata": {},
   "source": [
    "## Create a DataFrame"
   ]
  },
  {
   "cell_type": "code",
   "execution_count": null,
   "metadata": {},
   "outputs": [],
   "source": [
    "df = pd.DataFrame({'GENDER': {0: 'M',\n",
    "  1: 'F',\n",
    "  2: 'M',\n",
    "  3: 'M',\n",
    "  4: 'F',\n",
    "  5: 'F',\n",
    "  6: 'M',\n",
    "  7: 'F',\n",
    "  8: 'M',\n",
    "  9: 'F'},\n",
    " 'MONTH': {0: 'JAN',\n",
    "  1: 'FEB',\n",
    "  2: 'JAN',\n",
    "  3: 'MARCH',\n",
    "  4: 'FEB',\n",
    "  5: 'JUNE',\n",
    "  6: 'AUGUST',\n",
    "  7: 'FEB',\n",
    "  8: 'JAN',\n",
    "  9: 'FEB'},\n",
    " 'CITY': {0: 'KL',\n",
    "  1: 'KEDAH',\n",
    "  2: 'SELANGOR',\n",
    "  3: 'PINENG',\n",
    "  4: 'PERLIS',\n",
    "  5: 'JOHOR',\n",
    "  6: 'KEDAH',\n",
    "  7: 'SELANGOR',\n",
    "  8: 'KL',\n",
    "  9: 'PERAK'},\n",
    " 'OCCUPATION': {0: 'MANAGER',\n",
    "  1: 'DOCTOR',\n",
    "  2: 'EXECUTIVE',\n",
    "  3: 'CLERK',\n",
    "  4: 'LECTURER',\n",
    "  5: 'SUPERVISOR',\n",
    "  6: 'CLEANER',\n",
    "  7: 'TAILOR',\n",
    "  8: 'TEACHER',\n",
    "  9: 'PILOT'},\n",
    " 'SUSPICIOUS': {0: 'Y',\n",
    "  1: 'Y',\n",
    "  2: 'N',\n",
    "  3: 'Y',\n",
    "  4: 'N',\n",
    "  5: 'N',\n",
    "  6: 'N',\n",
    "  7: 'Y',\n",
    "  8: 'N',\n",
    "  9: 'Y'}})\n",
    "\n",
    "df"
   ]
  },
  {
   "cell_type": "markdown",
   "metadata": {},
   "source": [
    "## Label Encode the Dataset"
   ]
  },
  {
   "cell_type": "code",
   "execution_count": null,
   "metadata": {},
   "outputs": [],
   "source": [
    "# Encoding the variable\n",
    "d = defaultdict(LabelEncoder)\n",
    "\n",
    "fit = df.apply(lambda x: d[x.name].fit_transform(x))\n",
    "fit"
   ]
  },
  {
   "cell_type": "code",
   "execution_count": null,
   "metadata": {},
   "outputs": [],
   "source": [
    "# Inverse the encoded\n",
    "fit.apply(lambda x: d[x.name].inverse_transform(x))"
   ]
  },
  {
   "cell_type": "markdown",
   "metadata": {},
   "source": [
    "## New Data"
   ]
  },
  {
   "cell_type": "code",
   "execution_count": null,
   "metadata": {},
   "outputs": [],
   "source": [
    "newData = pd.DataFrame({\n",
    "    'GENDER':['F'],\n",
    "    'MONTH':['FEB'],\n",
    "    'CITY':['KL']\n",
    "})\n",
    "\n",
    "newData"
   ]
  },
  {
   "cell_type": "code",
   "execution_count": null,
   "metadata": {},
   "outputs": [],
   "source": [
    "# Using the dictionary to label future data\n",
    "newData.apply(lambda x: d[x.name].transform(x))"
   ]
  }
 ],
 "metadata": {
  "kernelspec": {
   "display_name": "Python 3 (ipykernel)",
   "language": "python",
   "name": "python3"
  },
  "language_info": {
   "codemirror_mode": {
    "name": "ipython",
    "version": 3
   },
   "file_extension": ".py",
   "mimetype": "text/x-python",
   "name": "python",
   "nbconvert_exporter": "python",
   "pygments_lexer": "ipython3",
   "version": "3.8.8"
  }
 },
 "nbformat": 4,
 "nbformat_minor": 4
}
